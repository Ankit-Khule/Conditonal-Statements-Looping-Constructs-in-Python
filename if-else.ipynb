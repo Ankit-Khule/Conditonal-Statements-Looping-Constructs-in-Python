{
 "cells": [
  {
   "cell_type": "markdown",
   "metadata": {},
   "source": [
    "# if - else"
   ]
  },
  {
   "cell_type": "code",
   "execution_count": 7,
   "metadata": {},
   "outputs": [],
   "source": [
    "list1=[1,2,3,4,5,6,7,8,9,10]"
   ]
  },
  {
   "cell_type": "code",
   "execution_count": 8,
   "metadata": {},
   "outputs": [
    {
     "name": "stdout",
     "output_type": "stream",
     "text": [
      "4 is present in the list\n"
     ]
    }
   ],
   "source": [
    "x=4\n",
    "if x in list1:\n",
    "    print(x,\"is present in the list\")\n",
    "else:\n",
    "    print(\"Not Found\")"
   ]
  },
  {
   "cell_type": "code",
   "execution_count": 10,
   "metadata": {},
   "outputs": [
    {
     "name": "stdout",
     "output_type": "stream",
     "text": [
      "11 is not present in the list\n"
     ]
    }
   ],
   "source": [
    "x=11\n",
    "if x in list1:\n",
    "    print(x,\"is present in the list\")\n",
    "else:\n",
    "    print(x,\"is not present in the list\")"
   ]
  },
  {
   "cell_type": "markdown",
   "metadata": {},
   "source": [
    "In python you can write only the if statement and not the else part."
   ]
  },
  {
   "cell_type": "code",
   "execution_count": 13,
   "metadata": {},
   "outputs": [
    {
     "name": "stdout",
     "output_type": "stream",
     "text": [
      "7 is present in the list\n"
     ]
    }
   ],
   "source": [
    "x=7\n",
    "if x in list1:\n",
    "    print(x,\"is present in the list\")"
   ]
  },
  {
   "cell_type": "markdown",
   "metadata": {},
   "source": [
    "# if - elif - else"
   ]
  },
  {
   "cell_type": "code",
   "execution_count": 15,
   "metadata": {},
   "outputs": [
    {
     "name": "stdout",
     "output_type": "stream",
     "text": [
      "11 is greater than 10\n"
     ]
    }
   ],
   "source": [
    "x=11\n",
    "if x>=15:\n",
    "    print(x,\"is greater than 15\")\n",
    "elif x <15 and x>=10:\n",
    "    print(x,\"is greater than 10\")\n",
    "else:\n",
    "    print(x,\"is smaller than 10\")"
   ]
  },
  {
   "cell_type": "code",
   "execution_count": 23,
   "metadata": {},
   "outputs": [
    {
     "name": "stdout",
     "output_type": "stream",
     "text": [
      "11 is less than 15\n",
      "11 is greater than 10\n"
     ]
    }
   ],
   "source": [
    "#nested ifs. if inside another if statment\n",
    "x=11\n",
    "if x>=10 and x<=15:\n",
    "    print(x,\"is less than 15\")\n",
    "    if x>=10:\n",
    "        print(x,\"is greater than 10\")\n"
   ]
  },
  {
   "cell_type": "markdown",
   "metadata": {},
   "source": [
    "# Short hand if-else"
   ]
  },
  {
   "cell_type": "code",
   "execution_count": 29,
   "metadata": {},
   "outputs": [
    {
     "name": "stdout",
     "output_type": "stream",
     "text": [
      "13 is less than 15\n",
      "13 is less than 15\n"
     ]
    }
   ],
   "source": [
    "# The print statement greater than 15 will be executed when the if condition is satisified. \n",
    "# The short hand helps to write whole condtion in just one line\n",
    "\n",
    "x=13\n",
    "\n",
    "print(x,\"is greater than 15\") if x>15 else print(x,\"is less than 15\") \n",
    "\n"
   ]
  },
  {
   "cell_type": "code",
   "execution_count": 33,
   "metadata": {},
   "outputs": [
    {
     "name": "stdout",
     "output_type": "stream",
     "text": [
      "9 is less than 10\n"
     ]
    }
   ],
   "source": [
    "# multiple if statement in one line\n",
    "x=9\n",
    "print(x,\"is less than 10\") if x<10 else print(x,\"is greater than 15\") if x>15 else print(x,\"is less than 15\")"
   ]
  }
 ],
 "metadata": {
  "kernelspec": {
   "display_name": "Python 3",
   "language": "python",
   "name": "python3"
  },
  "language_info": {
   "codemirror_mode": {
    "name": "ipython",
    "version": 3
   },
   "file_extension": ".py",
   "mimetype": "text/x-python",
   "name": "python",
   "nbconvert_exporter": "python",
   "pygments_lexer": "ipython3",
   "version": "3.6.4"
  }
 },
 "nbformat": 4,
 "nbformat_minor": 2
}
