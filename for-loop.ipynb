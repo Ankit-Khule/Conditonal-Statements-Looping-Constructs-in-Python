{
 "cells": [
  {
   "cell_type": "markdown",
   "metadata": {},
   "source": [
    "# For Loop"
   ]
  },
  {
   "cell_type": "code",
   "execution_count": 2,
   "metadata": {},
   "outputs": [
    {
     "name": "stdout",
     "output_type": "stream",
     "text": [
      "1\n",
      "2\n",
      "3\n",
      "4\n",
      "5\n",
      "6\n",
      "7\n",
      "8\n"
     ]
    }
   ],
   "source": [
    "#for loop requires objects that can iterate in the condition statement.\n",
    "x=[1,2,3,4,5,6,7,8]\n",
    "\n",
    "for i in x:\n",
    "    print(i)"
   ]
  },
  {
   "cell_type": "markdown",
   "metadata": {},
   "source": [
    "## Range()\n",
    "* range function provides the range from one start point to the end point.\n",
    "* if only one number is given it will consider 0 as the start point\n"
   ]
  },
  {
   "cell_type": "code",
   "execution_count": 16,
   "metadata": {},
   "outputs": [
    {
     "name": "stdout",
     "output_type": "stream",
     "text": [
      "2  *  0  =  0\n",
      "2  *  1  =  2\n",
      "2  *  2  =  4\n",
      "2  *  3  =  6\n",
      "2  *  4  =  8\n",
      "2  *  5  =  10\n",
      "2  *  6  =  12\n",
      "2  *  7  =  14\n",
      "2  *  8  =  16\n",
      "2  *  9  =  18\n",
      "2  *  10  =  20\n"
     ]
    }
   ],
   "source": [
    "x=2\n",
    "for i in range(11):\n",
    "        print(x,\" * \", i,\" = \",x*i)"
   ]
  },
  {
   "cell_type": "code",
   "execution_count": 15,
   "metadata": {},
   "outputs": [
    {
     "name": "stdout",
     "output_type": "stream",
     "text": [
      "2  *  0  =  0\n",
      "2  *  1  =  2\n",
      "2  *  2  =  4\n",
      "2  *  3  =  6\n",
      "2  *  4  =  8\n",
      "2  *  5  =  10\n",
      "2  *  6  =  12\n",
      "2  *  7  =  14\n",
      "2  *  8  =  16\n",
      "2  *  9  =  18\n",
      "2  *  10  =  20\n",
      "3  *  0  =  0\n",
      "3  *  1  =  3\n",
      "3  *  2  =  6\n",
      "3  *  3  =  9\n",
      "3  *  4  =  12\n",
      "3  *  5  =  15\n",
      "3  *  6  =  18\n",
      "3  *  7  =  21\n",
      "3  *  8  =  24\n",
      "3  *  9  =  27\n",
      "3  *  10  =  30\n"
     ]
    }
   ],
   "source": [
    "#nested for loop. Lets create nested for loop to write tables for 1 to 2\n",
    "x=[2,3]\n",
    "for j in x:\n",
    "    for i in range(11):\n",
    "        print(j,\" * \", i,\" = \",j*i)"
   ]
  }
 ],
 "metadata": {
  "kernelspec": {
   "display_name": "Python 3",
   "language": "python",
   "name": "python3"
  },
  "language_info": {
   "codemirror_mode": {
    "name": "ipython",
    "version": 3
   },
   "file_extension": ".py",
   "mimetype": "text/x-python",
   "name": "python",
   "nbconvert_exporter": "python",
   "pygments_lexer": "ipython3",
   "version": "3.6.4"
  }
 },
 "nbformat": 4,
 "nbformat_minor": 2
}
